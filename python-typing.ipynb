{
 "cells": [
  {
   "cell_type": "markdown",
   "metadata": {},
   "source": [
    "# python-typing使用\n",
    "\n",
    "Reference:\n",
    "[PEP 484 – Type Hints](https://peps.python.org/pep-0484/)\n",
    "\n",
    "## typing的作用\n",
    "\n",
    "typing包的主要功能如下：\n",
    "\n",
    "1. 类型注解：typing包提供了多种用于类型注解的工具，包括基本类型（如int、str）、容器类型（如List、Dict）、函数类型（如Callable、Tuple）、泛型（如Generic、TypeVar）等。通过类型注解，可以在函数声明、变量声明和类声明中指定参数的类型、返回值的类型等，以增加代码的可读性和可靠性。\n",
    "2. 类型检查：通过与第三方工具（如mypy）集成，可以对使用了类型注解的代码进行静态类型检查。类型检查可以帮助发现潜在的类型错误和逻辑错误，以提前捕获问题并改善代码的质量。\n",
    "3. 泛型支持：typing模块提供了对泛型的支持，使得可以编写更通用和灵活的代码。通过泛型，可以在函数和类中引入类型参数，以处理各种类型的数据。\n",
    "4. 类、函数和变量装饰器：typing模块提供了一些装饰器，如@overload、@abstractmethod、@final等，用于修饰类、函数和变量，以增加代码的可读性和可靠性。\n",
    "\n",
    "除了typing包，还有typing_extensions模块，它是typing模块的扩展，提供了一些额外的功能和类型。typing_extensions中包括了一些高级的类型工具和类型别名，用于更复杂的类型定义和注解。\n",
    "\n",
    "总的来说，typing包和typing_extensions模块为Python开发者提供了一套强大的类型提示工具，使得可以在代码中加入类型注解，并通过类型检查工具提供静态类型检查的功能，以提高代码的可读性和质量。\n",
    "\n",
    "**即, typing是python 3.5及以后版本的标准库，typing_extensions是typing模块的扩展包。**\n",
    "\n",
    "## typing常用类型\n",
    "\n",
    "以下是typing包中常用的类型和泛型。\n",
    "\n",
    "**注意，int, float,bool,str, bytes不需要import typing，Any,Union,Tuple等需要import typing**\n",
    "\n",
    "基本类型：\n",
    "\n",
    "- int：整数类型\n",
    "- float：浮点数类型\n",
    "- str：字符串类型\n",
    "- bool：布尔类型\n",
    "- Any：任何类型\n",
    "- Union：多个类型的联合类型，表示可以是其中任意一个类型\n",
    "- Tuple：元组类型\n",
    "- List：列表类型\n",
    "- Dict：字典类型，用于键值对的映射\n",
    "\n",
    "泛型：\n",
    "\n",
    "- Generic：泛型类型，用于创建泛型类或泛型函数\n",
    "- TypeVar：类型变量，用于创建表示不确定类型的占位符\n",
    "- Callable：可调用类型，用于表示函数类型\n",
    "- Optional: 可选类型，表示一个值可以为指定类型或None\n",
    "- Iterable: 可迭代对象类型\n",
    "- Mapping: 映射类型，用于表示键值对的映射\n",
    "- Sequence: 序列类型，用于表示有序集合类型\n",
    "- Type:泛型类，用于表示类型本身\n",
    "\n",
    "## typing使用类型\n",
    "\n",
    "### 示例1\n",
    "\n",
    "fun1里，标明了形参和返回值的类型，fun2中却没有。"
   ]
  },
  {
   "cell_type": "code",
   "execution_count": 1,
   "metadata": {},
   "outputs": [],
   "source": [
    "from typing import List, Tuple, Dict\n",
    "\n",
    "def fun1(a0: int, s0: str, f0: float, b0: bool) -> Tuple[int, str, float, bool]:\n",
    "    list1 = list(range(a0))\n",
    "    tup1 = (a0, s0, f0, b0)\n",
    "    dict1 = {s0: f0}\n",
    "    b1 = b0\n",
    "    return list1, tup1, dict1, b1\n",
    "\n",
    "def fun2(a0, s0, f0, b0):\n",
    "    list1 = list(range(a0))\n",
    "    tup1 = (a0, s0, f0, b0)\n",
    "    dict1 = {s0: f0}\n",
    "    b1 = b0\n",
    "    return list1, tup1, dict1, b1"
   ]
  },
  {
   "cell_type": "code",
   "execution_count": 3,
   "metadata": {},
   "outputs": [
    {
     "data": {
      "text/plain": [
       "([0, 1, 2, 3, 4], (5, 'KeyName', 2.3, False), {'KeyName': 2.3}, False)"
      ]
     },
     "execution_count": 3,
     "metadata": {},
     "output_type": "execute_result"
    }
   ],
   "source": [
    "fun1(5, \"KeyName\", 2.3, False)"
   ]
  },
  {
   "cell_type": "code",
   "execution_count": 4,
   "metadata": {},
   "outputs": [
    {
     "name": "stdout",
     "output_type": "stream",
     "text": [
      "Help on function fun1 in module __main__:\n",
      "\n",
      "fun1(a0: int, s0: str, f0: float, b0: bool) -> Tuple[int, str, float, bool]\n",
      "\n"
     ]
    }
   ],
   "source": [
    "help(fun1)"
   ]
  },
  {
   "cell_type": "code",
   "execution_count": 5,
   "metadata": {},
   "outputs": [
    {
     "name": "stdout",
     "output_type": "stream",
     "text": [
      "Help on function fun2 in module __main__:\n",
      "\n",
      "fun2(a0, s0, f0, b0)\n",
      "\n"
     ]
    }
   ],
   "source": [
    "help(fun2)"
   ]
  },
  {
   "cell_type": "markdown",
   "metadata": {},
   "source": [
    "由于fun1里有了完整的变量类型的注释，通过help查看其使用文档就很清楚知道怎么用该函数。\n",
    "\n",
    "### 示例2"
   ]
  },
  {
   "cell_type": "code",
   "execution_count": 6,
   "metadata": {},
   "outputs": [
    {
     "data": {
      "text/plain": [
       "[3, 'aa']"
      ]
     },
     "execution_count": 6,
     "metadata": {},
     "output_type": "execute_result"
    }
   ],
   "source": [
    "from typing import List\n",
    " \n",
    "def func(a: int,b: str) -> List[int or str]:# 使用or关键字表示多种类型\n",
    "    list1 = []\n",
    "    list1.append(a)\n",
    "    list1.append(b)\n",
    "    return list1\n",
    "\n",
    "l = func(3, \"aa\")\n",
    "l"
   ]
  },
  {
   "cell_type": "markdown",
   "metadata": {},
   "source": [
    "### 示例3\n",
    "\n",
    "定义一个不确定类型的占位符T，用作函数foo的形参， 但函数返回值一定是str，通过内部做str(name)转化来保证。"
   ]
  },
  {
   "cell_type": "code",
   "execution_count": 8,
   "metadata": {},
   "outputs": [
    {
     "data": {
      "text/plain": [
       "('2.012', '35', 'hahaha')"
      ]
     },
     "execution_count": 8,
     "metadata": {},
     "output_type": "execute_result"
    }
   ],
   "source": [
    "import typing\n",
    "\n",
    "T=typing.TypeVar('T',int,float,str)\n",
    "\n",
    "def foo(name:T)->str:\n",
    "    return str(name)\n",
    "\n",
    "foo(2.012), foo(35), foo(\"hahaha\")"
   ]
  },
  {
   "cell_type": "markdown",
   "metadata": {},
   "source": [
    "### 示例4\n",
    "\n",
    "typing中的Type是一个泛型类，用于表示类型本身，即你是啥类型就是啥类型，有点绕，看例子吧:"
   ]
  },
  {
   "cell_type": "code",
   "execution_count": 9,
   "metadata": {},
   "outputs": [],
   "source": [
    "from typing import Type\n",
    "\n",
    "value: Type[int]  # value是一个Type对象，表示int类型\n",
    "value: int"
   ]
  },
  {
   "cell_type": "markdown",
   "metadata": {},
   "source": [
    "即value:Type[int]和value:int是等价的。"
   ]
  }
 ],
 "metadata": {
  "kernelspec": {
   "display_name": "pytorch",
   "language": "python",
   "name": "python3"
  },
  "language_info": {
   "codemirror_mode": {
    "name": "ipython",
    "version": 3
   },
   "file_extension": ".py",
   "mimetype": "text/x-python",
   "name": "python",
   "nbconvert_exporter": "python",
   "pygments_lexer": "ipython3",
   "version": "3.10.16"
  }
 },
 "nbformat": 4,
 "nbformat_minor": 2
}

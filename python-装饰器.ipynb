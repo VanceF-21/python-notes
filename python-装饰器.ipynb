{
 "cells": [
  {
   "cell_type": "markdown",
   "metadata": {},
   "source": [
    "### 一、什么是装饰器\n",
    "装饰器是给现有的模块增添新的小功能，可以对原函数进行功能扩展，而且还不需要修改原函数的内容，也不需要修改原函数的调用。\n",
    "\n",
    "装饰器的使用符合了面向对象编程的开放封闭原则。"
   ]
  },
  {
   "cell_type": "markdown",
   "metadata": {},
   "source": [
    "开放封闭原则主要体现在两个方面：\n",
    "\n",
    "- 对扩展开放，意味着有新的需求或变化时，可以对现有代码进行扩展，以适应新的情况。\n",
    "- 对修改封闭，意味着类一旦设计完成，就可以独立其工作，而不要对类尽任何修改。\n"
   ]
  },
  {
   "cell_type": "markdown",
   "metadata": {},
   "source": [
    "### 二、为什么要用装饰器\n",
    "使用装饰器之前，我们要知道，其实python里是万物皆对象，也就是万物都可传参。\n",
    "\n",
    "函数也可以作为函数的参数进行传递的。\n",
    "\n",
    "通过下面这个简单的例子可以更直观知道函数名是如何直接作为参数进行传递"
   ]
  },
  {
   "cell_type": "code",
   "execution_count": 3,
   "metadata": {},
   "outputs": [
    {
     "name": "stdout",
     "output_type": "stream",
     "text": [
      "我是攻城狮白玉\n",
      "------------\n",
      "进入blog函数\n",
      "我是攻城狮白玉\n",
      "我的博客是 https://blog.csdn.net/zhh763984017\n"
     ]
    }
   ],
   "source": [
    "def baiyu():\n",
    "    print(\"我是攻城狮白玉\")\n",
    " \n",
    " \n",
    "def blog(name):\n",
    "    print('进入blog函数')\n",
    "    name()\n",
    "    print('我的博客是 https://blog.csdn.net/zhh763984017')\n",
    " \n",
    " \n",
    "if __name__ == '__main__':\n",
    "    func = baiyu  # 这里是把baiyu这个函数名赋值给变量func\n",
    "    func()  # 执行func函数\n",
    "    print('------------')\n",
    "    blog(baiyu)  # 把baiyu这个函数作为参数传递给blog函数"
   ]
  },
  {
   "cell_type": "markdown",
   "metadata": {},
   "source": [
    "接下来，我想知道这baiyu和blog两个函数分别的执行时间是多少，我就把代码修改如下："
   ]
  },
  {
   "cell_type": "code",
   "execution_count": 4,
   "metadata": {},
   "outputs": [
    {
     "name": "stdout",
     "output_type": "stream",
     "text": [
      "我是攻城狮白玉\n",
      "执行时间为： 2.004230260848999\n",
      "------------\n",
      "进入blog函数\n",
      "我是攻城狮白玉\n",
      "执行时间为： 2.0012238025665283\n",
      "我的博客是 https://blog.csdn.net/zhh763984017\n",
      "执行时间为： 2.0016472339630127\n"
     ]
    }
   ],
   "source": [
    "import time\n",
    " \n",
    " \n",
    "def baiyu():\n",
    "    t1 = time.time()\n",
    "    print(\"我是攻城狮白玉\")\n",
    "    time.sleep(2)\n",
    "    print(\"执行时间为：\", time.time() - t1)\n",
    " \n",
    " \n",
    "def blog(name):\n",
    "    t1 = time.time()\n",
    "    print('进入blog函数')\n",
    "    name()\n",
    "    print('我的博客是 https://blog.csdn.net/zhh763984017')\n",
    "    print(\"执行时间为：\", time.time() - t1)\n",
    " \n",
    " \n",
    "if __name__ == '__main__':\n",
    "    func = baiyu  # 这里是把baiyu这个函数名赋值给变量func\n",
    "    func()  # 执行func函数\n",
    "    print('------------')\n",
    "    blog(baiyu)  # 把baiyu这个函数作为参数传递给blog函数"
   ]
  },
  {
   "cell_type": "markdown",
   "metadata": {},
   "source": [
    "上述的改写已经实现了我需要的功能，但是，当我有另外一个新的函数【python_blog_list】，具体如下："
   ]
  },
  {
   "cell_type": "code",
   "execution_count": 5,
   "metadata": {},
   "outputs": [],
   "source": [
    "def python_blog_list():\n",
    "    print('''【Python】爬虫实战，零基础初试爬虫下载图片（附源码和分析过程）\n",
    "    https://blog.csdn.net/zhh763984017/article/details/119063252 ''')\n",
    "    print('''【Python】除了多线程和多进程，你还要会协程\n",
    "    https://blog.csdn.net/zhh763984017/article/details/118958668 ''')\n",
    "    print('''【Python】爬虫提速小技巧，多线程与多进程（附源码示例）\n",
    "    https://blog.csdn.net/zhh763984017/article/details/118773313 ''')\n",
    "    print('''【Python】爬虫解析利器Xpath，由浅入深快速掌握（附源码例子）\n",
    "    https://blog.csdn.net/zhh763984017/article/details/118634945 ''')"
   ]
  },
  {
   "cell_type": "markdown",
   "metadata": {},
   "source": [
    "也需要计算函数执行时间的，那按之前的逻辑，就是改写如下："
   ]
  },
  {
   "cell_type": "code",
   "execution_count": 6,
   "metadata": {},
   "outputs": [],
   "source": [
    "def python_blog_list():\n",
    "    t1 = time.time()\n",
    "    print('''【Python】爬虫实战，零基础初试爬虫下载图片（附源码和分析过程）\n",
    "    https://blog.csdn.net/zhh763984017/article/details/119063252 ''')\n",
    "    print('''【Python】除了多线程和多进程，你还要会协程\n",
    "    https://blog.csdn.net/zhh763984017/article/details/118958668 ''')\n",
    "    print('''【Python】爬虫提速小技巧，多线程与多进程（附源码示例）\n",
    "    https://blog.csdn.net/zhh763984017/article/details/118773313 ''')\n",
    "    print('''【Python】爬虫解析利器Xpath，由浅入深快速掌握（附源码例子）\n",
    "    https://blog.csdn.net/zhh763984017/article/details/118634945 ''')\n",
    "    print(\"执行时间为：\", time.time() - t1)"
   ]
  },
  {
   "cell_type": "markdown",
   "metadata": {},
   "source": [
    "如果也要这样子写的话，不就重复造轮子了吗？虽说人类的本质是鸽王和复读机，但作为一个优秀的cv攻城狮（ctrl+c和ctrl+v）肯定是要想办法偷懒的呀\n",
    "\n",
    "装饰器，就是可以让我们拓展一些原有函数没有的功能。"
   ]
  },
  {
   "cell_type": "markdown",
   "metadata": {},
   "source": [
    "### 三、简单的装饰器\n",
    "基于上面的函数执行时间的需求，我们就手写一个简单的装饰器进行实现。"
   ]
  },
  {
   "cell_type": "code",
   "execution_count": 7,
   "metadata": {},
   "outputs": [
    {
     "name": "stdout",
     "output_type": "stream",
     "text": [
      "我是攻城狮白玉\n",
      "执行时间为： 2.005247116088867\n"
     ]
    }
   ],
   "source": [
    "import time\n",
    " \n",
    " \n",
    "def baiyu():\n",
    "    print(\"我是攻城狮白玉\")\n",
    "    time.sleep(2)\n",
    " \n",
    " \n",
    "def count_time(func):\n",
    "    def wrapper():\n",
    "        t1 = time.time()\n",
    "        func()\n",
    "        print(\"执行时间为：\", time.time() - t1)\n",
    " \n",
    "    return wrapper\n",
    " \n",
    " \n",
    "if __name__ == '__main__':\n",
    "    baiyu = count_time(baiyu)  # 因为装饰器 count_time(baiyu) 返回的时函数对象 wrapper，这条语句相当于  baiyu = wrapper\n",
    "    baiyu()  # 执行baiyu()就相当于执行wrapper()"
   ]
  },
  {
   "cell_type": "markdown",
   "metadata": {},
   "source": [
    "这里的count_time是一个装饰器，装饰器函数里面定义一个wrapper函数，把func这个函数当作参数传入，函数实现的功能是把func包裹起来，并且返回wrapper函数。wrapper函数体就是要实现装饰器的内容。\n",
    "\n",
    "当然，这里的wrapper函数名是可以自定义的，只要你定义的函数名，跟你return的函数名是相同的就好了"
   ]
  },
  {
   "cell_type": "markdown",
   "metadata": {},
   "source": [
    "### 四、装饰器的语法糖@\n",
    "你如果看过其他python项目里面的代码里，难免会看到@符号，这个@符号就是装饰器的语法糖。因此上面简单的装饰器还是可以通过语法糖来实现的，这样就可以省去\n",
    "baiyu = count_time(baiyu) 这一句代码，而直接调用baiyu()这个函数\n",
    "\n",
    "换句话说，其实使用装饰器的是，默认传入的参数就是被装饰的函数。"
   ]
  },
  {
   "cell_type": "code",
   "execution_count": 8,
   "metadata": {},
   "outputs": [
    {
     "name": "stdout",
     "output_type": "stream",
     "text": [
      "我是攻城狮白玉\n",
      "执行时间为： 2.0009841918945312\n"
     ]
    }
   ],
   "source": [
    "import time\n",
    " \n",
    " \n",
    "def count_time(func):\n",
    "    def wrapper():\n",
    "        t1 = time.time()\n",
    "        func()\n",
    "        print(\"执行时间为：\", time.time() - t1)\n",
    " \n",
    "    return wrapper\n",
    " \n",
    " \n",
    "@count_time\n",
    "def baiyu():\n",
    "    print(\"我是攻城狮白玉\")\n",
    "    time.sleep(2)\n",
    " \n",
    " \n",
    "if __name__ == '__main__':\n",
    "    # baiyu = count_time(baiyu)  # 因为装饰器 count_time(baiyu) 返回的时函数对象 wrapper，这条语句相当于  baiyu = wrapper\n",
    "    # baiyu()  # 执行baiyu()就相当于执行wrapper()\n",
    " \n",
    "    baiyu()  # 用语法糖之后，就可以直接调用该函数了"
   ]
  },
  {
   "cell_type": "markdown",
   "metadata": {},
   "source": [
    "### 五、装饰器传参\n",
    "当我们的被装饰的函数是带参数的，此时要怎么写装饰器呢？\n",
    "\n",
    "上面我们有定义了一个blog函数是带参数的"
   ]
  },
  {
   "cell_type": "code",
   "execution_count": 9,
   "metadata": {},
   "outputs": [],
   "source": [
    "def blog(name):\n",
    "    print('进入blog函数')\n",
    "    name()\n",
    "    print('我的博客是 https://blog.csdn.net/zhh763984017')"
   ]
  },
  {
   "cell_type": "markdown",
   "metadata": {},
   "source": [
    "此时我们的装饰器函数要优化一下下，修改成为可以接受任意参数的装饰器"
   ]
  },
  {
   "cell_type": "code",
   "execution_count": 10,
   "metadata": {},
   "outputs": [],
   "source": [
    "def count_time(func):\n",
    "    def wrapper(*args,**kwargs):\n",
    "        t1 = time.time()\n",
    "        func(*args,**kwargs)\n",
    "        print(\"执行时间为：\", time.time() - t1)\n",
    " \n",
    "    return wrapper"
   ]
  },
  {
   "cell_type": "markdown",
   "metadata": {},
   "source": [
    "此处，我们的wrapper函数的参数为*args和**kwargs，表示可以接受任意参数\n",
    "\n",
    "这时我们就可以调用我们的装饰器了。"
   ]
  },
  {
   "cell_type": "code",
   "execution_count": 11,
   "metadata": {},
   "outputs": [
    {
     "name": "stdout",
     "output_type": "stream",
     "text": [
      "进入blog函数\n",
      "我是攻城狮白玉\n",
      "执行时间为： 2.005040168762207\n",
      "我的博客是 https://blog.csdn.net/zhh763984017\n",
      "执行时间为： 2.0059070587158203\n"
     ]
    }
   ],
   "source": [
    "import time\n",
    " \n",
    " \n",
    "def count_time(func):\n",
    "    def wrapper(*args, **kwargs):\n",
    "        t1 = time.time()\n",
    "        func(*args, **kwargs)\n",
    "        print(\"执行时间为：\", time.time() - t1)\n",
    " \n",
    "    return wrapper\n",
    " \n",
    " \n",
    "@count_time\n",
    "def blog(name):\n",
    "    print('进入blog函数')\n",
    "    name()\n",
    "    print('我的博客是 https://blog.csdn.net/zhh763984017')\n",
    " \n",
    " \n",
    "if __name__ == '__main__':\n",
    "    # baiyu = count_time(baiyu)  # 因为装饰器 count_time(baiyu) 返回的时函数对象 wrapper，这条语句相当于  baiyu = wrapper\n",
    "    # baiyu()  # 执行baiyu()就相当于执行wrapper()\n",
    " \n",
    "    # baiyu()  # 用语法糖之后，就可以直接调用该函数了\n",
    "    blog(baiyu)"
   ]
  },
  {
   "cell_type": "markdown",
   "metadata": {},
   "source": [
    "### 六、带参数的装饰器\n",
    "前面咱们知道，装饰器函数也是函数，既然是函数，那么就可以进行参数传递，咱们怎么写一个带参数的装饰器呢？\n",
    "\n",
    "前面咱们的装饰器只是实现了一个计数，那么我想在使用该装饰器的时候，传入一些备注的msg信息，怎么办呢？咱们一起看一下下面的代码"
   ]
  },
  {
   "cell_type": "code",
   "execution_count": 2,
   "metadata": {},
   "outputs": [
    {
     "name": "stdout",
     "output_type": "stream",
     "text": [
      "[baiyu]执行时间为： 1.0050380229949951\n",
      "[zhh]执行时间为： 1.001432180404663\n",
      "[mylove]执行时间为： 1.0050368309020996\n"
     ]
    }
   ],
   "source": [
    "import time\n",
    " \n",
    " \n",
    "def count_time_args(msg=None):\n",
    "    def count_time(func):\n",
    "        def wrapper(*args, **kwargs):\n",
    "            t1 = time.time()\n",
    "            func(*args, **kwargs)\n",
    "            print(f\"[{msg}]执行时间为：\", time.time() - t1)\n",
    " \n",
    "        return wrapper\n",
    " \n",
    "    return count_time\n",
    " \n",
    " \n",
    "@count_time_args(msg=\"baiyu\")\n",
    "def fun_one():\n",
    "    time.sleep(1)\n",
    " \n",
    " \n",
    "@count_time_args(msg=\"zhh\")\n",
    "def fun_two():\n",
    "    time.sleep(1)\n",
    " \n",
    " \n",
    "@count_time_args(msg=\"mylove\")\n",
    "def fun_three():\n",
    "    time.sleep(1)\n",
    " \n",
    " \n",
    "if __name__ == '__main__':\n",
    "    fun_one()\n",
    "    fun_two()\n",
    "    fun_three()"
   ]
  },
  {
   "cell_type": "markdown",
   "metadata": {},
   "source": [
    "### 七、类装饰器\n",
    "上面咱们一起学习了怎么写装饰器函数，在python中，其实也可以同类来实现装饰器的功能，称之为类装饰器。类装饰器的实现是调用了类里面的__call__函数。类装饰器的写法比我们装饰器函数的写法更加简单。\n",
    "\n",
    "当我们将类作为一个装饰器，工作流程：\n",
    "\n",
    "- 通过__init__（）方法初始化类\n",
    "- 通过__call__（）方法调用真正的装饰方法\n"
   ]
  },
  {
   "cell_type": "code",
   "execution_count": 1,
   "metadata": {},
   "outputs": [
    {
     "name": "stdout",
     "output_type": "stream",
     "text": [
      "执行类的__init__方法\n",
      "执行类的__init__方法\n",
      "进入__call__函数\n",
      "我是攻城狮白玉\n",
      "执行时间为： 2.0050418376922607\n",
      "--------------\n",
      "进入__call__函数\n",
      "进入blog函数\n",
      "【Python】爬虫实战，零基础初试爬虫下载图片（附源码和分析过程）\n",
      "    https://blog.csdn.net/zhh763984017/article/details/119063252 \n",
      "【Python】除了多线程和多进程，你还要会协程\n",
      "    https://blog.csdn.net/zhh763984017/article/details/118958668 \n",
      "【Python】爬虫提速小技巧，多线程与多进程（附源码示例）\n",
      "    https://blog.csdn.net/zhh763984017/article/details/118773313 \n",
      "【Python】爬虫解析利器Xpath，由浅入深快速掌握（附源码例子）\n",
      "    https://blog.csdn.net/zhh763984017/article/details/118634945 \n",
      "我的博客是 https://blog.csdn.net/zhh763984017\n",
      "执行时间为： 5.003523111343384\n"
     ]
    }
   ],
   "source": [
    "import time\n",
    " \n",
    "class BaiyuDecorator:\n",
    "    def __init__(self, func):\n",
    "        self.func = func\n",
    "        print(\"执行类的__init__方法\")\n",
    " \n",
    "    def __call__(self, *args, **kwargs):\n",
    "        print('进入__call__函数')\n",
    "        t1 = time.time()\n",
    "        self.func(*args, **kwargs)\n",
    "        print(\"执行时间为：\", time.time() - t1)\n",
    " \n",
    " \n",
    "@BaiyuDecorator\n",
    "def baiyu():\n",
    "    print(\"我是攻城狮白玉\")\n",
    "    time.sleep(2)\n",
    " \n",
    " \n",
    "def python_blog_list():\n",
    "    time.sleep(5)\n",
    "    print('''【Python】爬虫实战，零基础初试爬虫下载图片（附源码和分析过程）\n",
    "    https://blog.csdn.net/zhh763984017/article/details/119063252 ''')\n",
    "    print('''【Python】除了多线程和多进程，你还要会协程\n",
    "    https://blog.csdn.net/zhh763984017/article/details/118958668 ''')\n",
    "    print('''【Python】爬虫提速小技巧，多线程与多进程（附源码示例）\n",
    "    https://blog.csdn.net/zhh763984017/article/details/118773313 ''')\n",
    "    print('''【Python】爬虫解析利器Xpath，由浅入深快速掌握（附源码例子）\n",
    "    https://blog.csdn.net/zhh763984017/article/details/118634945 ''')\n",
    " \n",
    " \n",
    "@BaiyuDecorator\n",
    "def blog(name):\n",
    "    print('进入blog函数')\n",
    "    name()\n",
    "    print('我的博客是 https://blog.csdn.net/zhh763984017')\n",
    " \n",
    " \n",
    "if __name__ == '__main__':\n",
    "    baiyu()\n",
    "    print('--------------')\n",
    "    blog(python_blog_list)\n",
    "\n",
    "\n",
    "# “执行类的__init__方法输出两次”：每次你使用 @BaiyuDecorator 装饰一个函数时，都会调用一次 __init__ 方法"
   ]
  },
  {
   "cell_type": "markdown",
   "metadata": {},
   "source": [
    "### 八、带参数的类装饰器\n",
    "当装饰器有参数的时候，__init__() 函数就不能传入func（func代表要装饰的函数）了，而func是在__call__函数调用的时候传入的。\n"
   ]
  },
  {
   "cell_type": "code",
   "execution_count": 12,
   "metadata": {},
   "outputs": [
    {
     "name": "stdout",
     "output_type": "stream",
     "text": [
      "执行类Decorator的__init__()方法\n",
      "执行类Decorator的__call__()方法\n",
      "准备调用example()\n",
      "执行wrap()\n",
      "装饰器参数： Hello Baiyu\n",
      "执行example()\n",
      "传入example()的参数： Baiyu Happy Coder\n",
      "example()执行完毕\n",
      "测试代码执行完毕\n"
     ]
    }
   ],
   "source": [
    "class BaiyuDecorator:\n",
    "    def __init__(self, arg1, arg2):  # init()方法里面的参数都是装饰器的参数\n",
    "        print('执行类Decorator的__init__()方法')\n",
    "        self.arg1 = arg1\n",
    "        self.arg2 = arg2\n",
    " \n",
    "    def __call__(self, func):  # 因为装饰器带了参数，所以接收传入函数变量的位置是这里\n",
    "        print('执行类Decorator的__call__()方法')\n",
    " \n",
    "        def baiyu_warp(*args):  # 这里装饰器的函数名字可以随便命名，只要跟return的函数名相同即可\n",
    "            print('执行wrap()')\n",
    "            print('装饰器参数：', self.arg1, self.arg2)\n",
    "            print('执行' + func.__name__ + '()')\n",
    "            func(*args)\n",
    "            print(func.__name__ + '()执行完毕')\n",
    " \n",
    "        return baiyu_warp\n",
    " \n",
    " \n",
    "@BaiyuDecorator('Hello', 'Baiyu')  # 装饰器带参数\n",
    "def example(a1, a2, a3):\n",
    "    print('传入example()的参数：', a1, a2, a3)\n",
    " \n",
    " \n",
    "if __name__ == '__main__':\n",
    "    print('准备调用example()')\n",
    "    example('Baiyu', 'Happy', 'Coder')\n",
    "    print('测试代码执行完毕')"
   ]
  },
  {
   "cell_type": "markdown",
   "metadata": {},
   "source": [
    "### 九、装饰器的顺序\n",
    "一个函数可以被多个装饰器进行装饰，那么装饰器的执行顺序是怎么样的呢？咱们执行一下下面的代码就清楚了\n"
   ]
  },
  {
   "cell_type": "code",
   "execution_count": 13,
   "metadata": {},
   "outputs": [
    {
     "name": "stdout",
     "output_type": "stream",
     "text": [
      "我是攻城狮白玉\n",
      "我是装饰器3\n",
      "我是装饰器2\n",
      "我是装饰器1\n"
     ]
    }
   ],
   "source": [
    "def BaiyuDecorator_1(func):\n",
    "    def wrapper(*args, **kwargs):\n",
    "        func(*args, **kwargs)\n",
    "        print('我是装饰器1')\n",
    " \n",
    "    return wrapper\n",
    " \n",
    "def BaiyuDecorator_2(func):\n",
    "    def wrapper(*args, **kwargs):\n",
    "        func(*args, **kwargs)\n",
    "        print('我是装饰器2')\n",
    " \n",
    "    return wrapper\n",
    " \n",
    "def BaiyuDecorator_3(func):\n",
    "    def wrapper(*args, **kwargs):\n",
    "        func(*args, **kwargs)\n",
    "        print('我是装饰器3')\n",
    " \n",
    "    return wrapper\n",
    " \n",
    "@BaiyuDecorator_1\n",
    "@BaiyuDecorator_2\n",
    "@BaiyuDecorator_3\n",
    "def baiyu():\n",
    "    print(\"我是攻城狮白玉\")\n",
    " \n",
    " \n",
    "if __name__ == '__main__':\n",
    "    baiyu()"
   ]
  },
  {
   "cell_type": "markdown",
   "metadata": {},
   "source": [
    "由输出结果可知，在装饰器修饰完的函数，在执行的时候先执行原函数的功能，然后再由里到外依次执行装饰器的内容。"
   ]
  },
  {
   "cell_type": "markdown",
   "metadata": {},
   "source": [
    "我们带三个装饰器的函数的代码如下："
   ]
  },
  {
   "cell_type": "code",
   "execution_count": null,
   "metadata": {},
   "outputs": [],
   "source": [
    "@BaiyuDecorator_1\n",
    "@BaiyuDecorator_2\n",
    "@BaiyuDecorator_3\n",
    "def baiyu():\n",
    "    print(\"我是攻城狮白玉\")"
   ]
  },
  {
   "cell_type": "markdown",
   "metadata": {},
   "source": [
    "上述的代码可以看作如下代码，就能理解为何是由里到外执行了"
   ]
  },
  {
   "cell_type": "code",
   "execution_count": null,
   "metadata": {},
   "outputs": [],
   "source": [
    "baiyu = BaiyuDecorator_1 (BaiyuDecorator_2 (BaiyuDecorator_3(baiyu)))"
   ]
  }
 ],
 "metadata": {
  "kernelspec": {
   "display_name": "pytorch",
   "language": "python",
   "name": "python3"
  },
  "language_info": {
   "codemirror_mode": {
    "name": "ipython",
    "version": 3
   },
   "file_extension": ".py",
   "mimetype": "text/x-python",
   "name": "python",
   "nbconvert_exporter": "python",
   "pygments_lexer": "ipython3",
   "version": "3.10.15"
  }
 },
 "nbformat": 4,
 "nbformat_minor": 2
}
